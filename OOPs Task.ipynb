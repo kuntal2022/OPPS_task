{
 "cells": [
  {
   "cell_type": "markdown",
   "id": "cda05a04",
   "metadata": {},
   "source": [
    "# Q1, Create a vehicle class with an init method having instance variables as name_of_vehicle, max_speed and average_of_vehicle."
   ]
  },
  {
   "cell_type": "code",
   "execution_count": 12,
   "id": "1604a6c5",
   "metadata": {},
   "outputs": [],
   "source": [
    "class vehicle:\n",
    "    def __init__ (self,name_of_vehicle, max_speed, average_of_vehicle ):\n",
    "        self.name_of_vehicle=name_of_vehicle\n",
    "        self.max_speed=max_speed\n",
    "        self.average_of_vehicle=average_of_vehicle"
   ]
  },
  {
   "cell_type": "markdown",
   "id": "a5caa69f",
   "metadata": {},
   "source": [
    "# Q2. Create a child class car from the vehicle class created in Que 1, which will inherit the vehicle class.\n",
    "# Create a method named seating_capacity which takes capacity as an argument and returns the name of the vehicle and its seating capacity."
   ]
  },
  {
   "cell_type": "code",
   "execution_count": 18,
   "id": "a11f76d3",
   "metadata": {},
   "outputs": [
    {
     "data": {
      "text/plain": [
       "('Honda 120', 4)"
      ]
     },
     "execution_count": 18,
     "metadata": {},
     "output_type": "execute_result"
    }
   ],
   "source": [
    "class car(vehicle):\n",
    "    def __init__ (self,name_of_vehicle, max_speed, average_of_vehicle, capacity ):\n",
    "        super().__init__(name_of_vehicle, max_speed, average_of_vehicle) \n",
    "        self.capacity=capacity\n",
    "    def show_name_capacity(self):\n",
    "        return self.name_of_vehicle, self.capacity\n",
    "c1=car(\"Honda 120\", 180, 60, 4)\n",
    "c1.show_name_capacity()"
   ]
  },
  {
   "cell_type": "markdown",
   "id": "b872de5b",
   "metadata": {},
   "source": [
    "# Q3. What is multiple inheritance? Write a python code to demonstrate multiple inheritance."
   ]
  },
  {
   "cell_type": "markdown",
   "id": "6708ead4",
   "metadata": {},
   "source": [
    "# Multiple inheritance:\n",
    "\n",
    "When 2 diffrent classes  combined to create another class than the created new class is caled multiple inheritance"
   ]
  },
  {
   "cell_type": "code",
   "execution_count": 19,
   "id": "ce8f2f3b",
   "metadata": {},
   "outputs": [
    {
     "name": "stdout",
     "output_type": "stream",
     "text": [
      "Eye Color Is Blue : I am Mom Eye\n",
      "Skin Color Is white : I am Dad skin\n"
     ]
    }
   ],
   "source": [
    "class Mom: # Create mom\n",
    "    def eye_color(self):\n",
    "        return (\"Eye Color Is Blue : I am Mom Eye\")\n",
    "    \n",
    "class Dad: # create dad\n",
    "    def skin_color(self):\n",
    "        return \"Skin Color Is white : I am Dad skin\"\n",
    "    \n",
    "class Baby(Mom, Dad): # create baby\n",
    "    pass\n",
    "\n",
    "baby1= Baby()#create baby object\n",
    "\n",
    "print(baby1.eye_color())# see mom gene\n",
    "print(baby1.skin_color()) # see dad gene\n"
   ]
  },
  {
   "cell_type": "markdown",
   "id": "669de9b6",
   "metadata": {},
   "source": [
    "# Q4. What are getter and setter in python? Create a class and create a getter and a setter method in this class."
   ]
  },
  {
   "cell_type": "markdown",
   "id": "40516f39",
   "metadata": {},
   "source": [
    "## ANS\n",
    "### Getter: A method that allows you to access an attribute in a given class\n",
    "### Setter: A method that allows you to set or mutate the value of an attribute in a class"
   ]
  },
  {
   "cell_type": "code",
   "execution_count": 30,
   "id": "966ac421",
   "metadata": {},
   "outputs": [
    {
     "name": "stdout",
     "output_type": "stream",
     "text": [
      "27\n",
      "27\n"
     ]
    }
   ],
   "source": [
    "class Getter_Setter:   \n",
    "    def __init__(self, age = 0):   \n",
    "         self._age = age   \n",
    "      # using the getter method   \n",
    "    def get_age(self):   \n",
    "        return self._age   \n",
    "      # using the setter method   \n",
    "    def set_age(self, a):   \n",
    "        self._age = a   \n",
    "    \n",
    "Arun = Getter_Setter()   \n",
    "    \n",
    "#using the setter function  \n",
    "Arun.set_age(27)   \n",
    "    \n",
    "# using the getter function  \n",
    "print(Arun.get_age())   \n",
    "    \n",
    "print(Arun._age) "
   ]
  },
  {
   "cell_type": "markdown",
   "id": "7d441766",
   "metadata": {},
   "source": [
    "# Q5.What is method overriding in python? Write a python code to demonstrate method overriding."
   ]
  },
  {
   "cell_type": "markdown",
   "id": "5c199463",
   "metadata": {},
   "source": [
    "# Ans\n",
    "\n",
    "The method overriding in Python means creating two methods with the same name but differ in the programming logic. The concept of Method overriding allows us to change or override the Parent Class function in the Child Class."
   ]
  },
  {
   "cell_type": "code",
   "execution_count": 28,
   "id": "b335ff7c",
   "metadata": {},
   "outputs": [
    {
     "name": "stdout",
     "output_type": "stream",
     "text": [
      "Inside Parent\n",
      "Inside Child\n"
     ]
    }
   ],
   "source": [
    "# Defining parent class\n",
    "class Parent1():\n",
    "      \n",
    "    # Constructor\n",
    "    def __init__(self):\n",
    "        self.value = \"Inside Parent\"\n",
    "          \n",
    "    # Parent's show method\n",
    "    def show(self):\n",
    "        print(self.value)\n",
    "          \n",
    "# Defining child class\n",
    "class Child(Parent1):\n",
    "      \n",
    "    # Constructor\n",
    "    def __init__(self):\n",
    "        self.value = \"Inside Child\"\n",
    "          \n",
    "    # Child's show method\n",
    "    def show(self):\n",
    "        print(self.value)\n",
    "        \n",
    "# Driver's code\n",
    "obj1 = Parent()\n",
    "obj2 = Child()\n",
    "  \n",
    "obj1.show()\n",
    "obj2.show()"
   ]
  },
  {
   "cell_type": "code",
   "execution_count": null,
   "id": "2122d118",
   "metadata": {},
   "outputs": [],
   "source": []
  }
 ],
 "metadata": {
  "kernelspec": {
   "display_name": "Python 3 (ipykernel)",
   "language": "python",
   "name": "python3"
  },
  "language_info": {
   "codemirror_mode": {
    "name": "ipython",
    "version": 3
   },
   "file_extension": ".py",
   "mimetype": "text/x-python",
   "name": "python",
   "nbconvert_exporter": "python",
   "pygments_lexer": "ipython3",
   "version": "3.9.13"
  }
 },
 "nbformat": 4,
 "nbformat_minor": 5
}
